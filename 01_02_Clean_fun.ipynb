{
 "cells": [
  {
   "cell_type": "markdown",
   "metadata": {
    "id": "Rm62HPJ-QgEj"
   },
   "source": [
    "# Libraries"
   ]
  },
  {
   "cell_type": "code",
   "execution_count": 37,
   "metadata": {
    "executionInfo": {
     "elapsed": 717,
     "status": "ok",
     "timestamp": 1715860199557,
     "user": {
      "displayName": "Brenda Enriquez",
      "userId": "08891656224294489518"
     },
     "user_tz": -120
    },
    "id": "HBbqe2JwY7Jo"
   },
   "outputs": [],
   "source": [
    "import pandas as pd\n",
    "import re\n",
    "import numpy as np\n",
    "import warnings\n",
    "warnings.filterwarnings(\"ignore\")"
   ]
  },
  {
   "cell_type": "code",
   "execution_count": 38,
   "metadata": {
    "executionInfo": {
     "elapsed": 3,
     "status": "ok",
     "timestamp": 1715860199558,
     "user": {
      "displayName": "Brenda Enriquez",
      "userId": "08891656224294489518"
     },
     "user_tz": -120
    },
    "id": "Uyl07sP-JaAf"
   },
   "outputs": [],
   "source": [
    "def save_list_to_txt(lst, file_path):\n",
    "    with open(file_path, 'w') as file:\n",
    "        for item in lst:\n",
    "            file.write(str(item) + '\\n')\n",
    "\n",
    "# -------------------------- NO NEED ---------------------------------\n",
    "# # Get list of tested products -> to ask for SMILES\n",
    "# produits=tb['Produit_teste'].unique()\n",
    "# produits.sort()\n",
    "\n",
    "# # File path to save the list\n",
    "# file_path = 'produits.txt'\n",
    "# # Save the list to a text file\n",
    "# save_list_to_txt(produits, file_path)"
   ]
  },
  {
   "cell_type": "markdown",
   "metadata": {
    "id": "MUwSAIiRQpnQ"
   },
   "source": [
    "# 1. Load & Clean"
   ]
  },
  {
   "cell_type": "markdown",
   "metadata": {},
   "source": [
    "1. Load only relevant columns\n",
    "2. Clean special characters in headers"
   ]
  },
  {
   "cell_type": "code",
   "execution_count": 39,
   "metadata": {
    "colab": {
     "base_uri": "https://localhost:8080/",
     "height": 704
    },
    "executionInfo": {
     "elapsed": 372,
     "status": "ok",
     "timestamp": 1715860448789,
     "user": {
      "displayName": "Brenda Enriquez",
      "userId": "08891656224294489518"
     },
     "user_tz": -120
    },
    "id": "kYG11zaRX5xv",
    "outputId": "10f886d1-86f3-46f4-d76d-b3d543dbfe84"
   },
   "outputs": [],
   "source": [
    "# Define a dictionary with characters to remove as keys and empty strings as values\n",
    "characters_to_remove = {\n",
    "    'é': 'e',\n",
    "    'è': 'e',\n",
    "    '/': '',\n",
    "    \"'\": '',\n",
    "    '-': '',\n",
    "    '+': '',\n",
    "    '(': '',\n",
    "    ')': '',\n",
    "}\n",
    "\n",
    "accents_to_remove = {\n",
    "    'é': 'e',\n",
    "    'è': 'e',\n",
    "}"
   ]
  },
  {
   "cell_type": "code",
   "execution_count": 40,
   "metadata": {},
   "outputs": [
    {
     "data": {
      "text/html": [
       "<div>\n",
       "<style scoped>\n",
       "    .dataframe tbody tr th:only-of-type {\n",
       "        vertical-align: middle;\n",
       "    }\n",
       "\n",
       "    .dataframe tbody tr th {\n",
       "        vertical-align: top;\n",
       "    }\n",
       "\n",
       "    .dataframe thead th {\n",
       "        text-align: right;\n",
       "    }\n",
       "</style>\n",
       "<table border=\"1\" class=\"dataframe\">\n",
       "  <thead>\n",
       "    <tr style=\"text-align: right;\">\n",
       "      <th></th>\n",
       "      <th>Type_de_protocole</th>\n",
       "      <th>Code_protocole_Numero_Version</th>\n",
       "      <th>Titre_Abrege</th>\n",
       "      <th>Reference_Societe</th>\n",
       "      <th>Systeme_Etudie</th>\n",
       "      <th>Domaine_therapeutique</th>\n",
       "      <th>Produit_teste</th>\n",
       "      <th>Triplet_Teste</th>\n",
       "      <th>Serie_chimique</th>\n",
       "      <th>Dose_testee_Molar</th>\n",
       "      <th>Nom_detude</th>\n",
       "      <th>Date_Creation_Etude</th>\n",
       "      <th>Parametre</th>\n",
       "      <th>Unite_du_Parametre</th>\n",
       "      <th>Operateur_Resultat</th>\n",
       "    </tr>\n",
       "  </thead>\n",
       "  <tbody>\n",
       "    <tr>\n",
       "      <th>0</th>\n",
       "      <td>Profil sécurité</td>\n",
       "      <td>BE72EXT - 1</td>\n",
       "      <td>AMPA(r)/[3H] AMPA/Cortex</td>\n",
       "      <td>64.0</td>\n",
       "      <td>AMPA</td>\n",
       "      <td>Neurosciences</td>\n",
       "      <td>S 48326-1</td>\n",
       "      <td>D01PHA064C_CHD_ND</td>\n",
       "      <td>L1363</td>\n",
       "      <td>1E-05 M</td>\n",
       "      <td>DANA_001654120-CEREP-922220</td>\n",
       "      <td>2008-09-09</td>\n",
       "      <td>INHIB%</td>\n",
       "      <td>%</td>\n",
       "      <td>-1_x000D_</td>\n",
       "    </tr>\n",
       "    <tr>\n",
       "      <th>1</th>\n",
       "      <td>Profil sécurité</td>\n",
       "      <td>BE72EXT - 1</td>\n",
       "      <td>AMPA(r)/[3H] AMPA/Cortex</td>\n",
       "      <td>64.0</td>\n",
       "      <td>AMPA</td>\n",
       "      <td>Neurosciences</td>\n",
       "      <td>S 48326-1</td>\n",
       "      <td>D01PHA064C_CHD_ND</td>\n",
       "      <td>L1363</td>\n",
       "      <td>1E-07 M</td>\n",
       "      <td>DANA_001654120-CEREP-922220</td>\n",
       "      <td>2008-09-09</td>\n",
       "      <td>INHIB%</td>\n",
       "      <td>%</td>\n",
       "      <td>-4_x000D_</td>\n",
       "    </tr>\n",
       "    <tr>\n",
       "      <th>2</th>\n",
       "      <td>Profil sécurité</td>\n",
       "      <td>BE72EXT - 1</td>\n",
       "      <td>AMPA(r)/[3H] AMPA/Cortex</td>\n",
       "      <td>64.0</td>\n",
       "      <td>AMPA</td>\n",
       "      <td>Neurosciences</td>\n",
       "      <td>S 48470-1</td>\n",
       "      <td>D01PHA083A_CHD_ND</td>\n",
       "      <td>L1363</td>\n",
       "      <td>1E-05 M</td>\n",
       "      <td>DANA_001668428-CEREP-922231</td>\n",
       "      <td>2008-11-14</td>\n",
       "      <td>INHIB%</td>\n",
       "      <td>%</td>\n",
       "      <td>9_x000D_</td>\n",
       "    </tr>\n",
       "    <tr>\n",
       "      <th>3</th>\n",
       "      <td>Profil sécurité</td>\n",
       "      <td>BE72EXT - 1</td>\n",
       "      <td>AMPA(r)/[3H] AMPA/Cortex</td>\n",
       "      <td>64.0</td>\n",
       "      <td>AMPA</td>\n",
       "      <td>Neurosciences</td>\n",
       "      <td>S 48470-1</td>\n",
       "      <td>D01PHA083A_CHD_ND</td>\n",
       "      <td>L1363</td>\n",
       "      <td>1E-07 M</td>\n",
       "      <td>DANA_001668428-CEREP-922231</td>\n",
       "      <td>2008-11-14</td>\n",
       "      <td>INHIB%</td>\n",
       "      <td>%</td>\n",
       "      <td>2_x000D_</td>\n",
       "    </tr>\n",
       "    <tr>\n",
       "      <th>4</th>\n",
       "      <td>Profil sécurité</td>\n",
       "      <td>BE72EXT - 1</td>\n",
       "      <td>AMPA(r)/[3H] AMPA/Cortex</td>\n",
       "      <td>64.0</td>\n",
       "      <td>AMPA</td>\n",
       "      <td>Cardiovascular / Respiratory</td>\n",
       "      <td>S 32888-1</td>\n",
       "      <td>B03BAZ055A_CHB_ND</td>\n",
       "      <td>P1552</td>\n",
       "      <td>1E-05 M</td>\n",
       "      <td>111297/2;080198;2001</td>\n",
       "      <td>1997-12-09</td>\n",
       "      <td>INHIB%</td>\n",
       "      <td>%</td>\n",
       "      <td>0_x000D_</td>\n",
       "    </tr>\n",
       "    <tr>\n",
       "      <th>...</th>\n",
       "      <td>...</td>\n",
       "      <td>...</td>\n",
       "      <td>...</td>\n",
       "      <td>...</td>\n",
       "      <td>...</td>\n",
       "      <td>...</td>\n",
       "      <td>...</td>\n",
       "      <td>...</td>\n",
       "      <td>...</td>\n",
       "      <td>...</td>\n",
       "      <td>...</td>\n",
       "      <td>...</td>\n",
       "      <td>...</td>\n",
       "      <td>...</td>\n",
       "      <td>...</td>\n",
       "    </tr>\n",
       "    <tr>\n",
       "      <th>421878</th>\n",
       "      <td>Profil sécurité</td>\n",
       "      <td>EOR5EXT - 1</td>\n",
       "      <td>MAO-A(h)/recombinant enzyme</td>\n",
       "      <td>191.0</td>\n",
       "      <td>MAO-A</td>\n",
       "      <td>NaN</td>\n",
       "      <td>SGN45</td>\n",
       "      <td>A09JGP188A_CHA_ND</td>\n",
       "      <td>A3548</td>\n",
       "      <td>1E-07 M</td>\n",
       "      <td>DANA_000074850-CEREP-921030</td>\n",
       "      <td>2003-05-21</td>\n",
       "      <td>INHIB%</td>\n",
       "      <td>%</td>\n",
       "      <td>3_x000D_</td>\n",
       "    </tr>\n",
       "    <tr>\n",
       "      <th>421879</th>\n",
       "      <td>Profil sécurité</td>\n",
       "      <td>EOR5EXT - 1</td>\n",
       "      <td>MAO-A(h)/recombinant enzyme</td>\n",
       "      <td>191.0</td>\n",
       "      <td>MAO-A</td>\n",
       "      <td>NaN</td>\n",
       "      <td>Varenicline</td>\n",
       "      <td>ND_SYNTHEVAL_SYN 1208</td>\n",
       "      <td>NaN</td>\n",
       "      <td>1E-05 M</td>\n",
       "      <td>DANA_001456363-CEREP-921090</td>\n",
       "      <td>2008-01-15</td>\n",
       "      <td>INHIB%</td>\n",
       "      <td>%</td>\n",
       "      <td>5_x000D_</td>\n",
       "    </tr>\n",
       "    <tr>\n",
       "      <th>421880</th>\n",
       "      <td>Profil sécurité</td>\n",
       "      <td>EOR5EXT - 1</td>\n",
       "      <td>MAO-A(h)/recombinant enzyme</td>\n",
       "      <td>191.0</td>\n",
       "      <td>MAO-A</td>\n",
       "      <td>NaN</td>\n",
       "      <td>Varenicline</td>\n",
       "      <td>ND_SYNTHEVAL_SYN 1208</td>\n",
       "      <td>NaN</td>\n",
       "      <td>1E-07 M</td>\n",
       "      <td>DANA_001456363-CEREP-921090</td>\n",
       "      <td>2008-01-15</td>\n",
       "      <td>INHIB%</td>\n",
       "      <td>%</td>\n",
       "      <td>0_x000D_</td>\n",
       "    </tr>\n",
       "    <tr>\n",
       "      <th>421881</th>\n",
       "      <td>Profil sécurité</td>\n",
       "      <td>EOR5EXT - 1</td>\n",
       "      <td>MAO-A(h)/recombinant enzyme</td>\n",
       "      <td>191.0</td>\n",
       "      <td>MAO-A</td>\n",
       "      <td>NaN</td>\n",
       "      <td>VUF 5681, dibromhydrate</td>\n",
       "      <td>1A/73148_TOCRIS_2493</td>\n",
       "      <td>NaN</td>\n",
       "      <td>1E-05 M</td>\n",
       "      <td>DANA_004692470-CEREP-100003703</td>\n",
       "      <td>2012-06-01</td>\n",
       "      <td>INHIB%</td>\n",
       "      <td>%</td>\n",
       "      <td>1_x000D_</td>\n",
       "    </tr>\n",
       "    <tr>\n",
       "      <th>421882</th>\n",
       "      <td>Profil sécurité</td>\n",
       "      <td>EOR5EXT - 1</td>\n",
       "      <td>MAO-A(h)/recombinant enzyme</td>\n",
       "      <td>191.0</td>\n",
       "      <td>MAO-A</td>\n",
       "      <td>NaN</td>\n",
       "      <td>VUF 5681, dibromhydrate</td>\n",
       "      <td>1A/73148_TOCRIS_2493</td>\n",
       "      <td>NaN</td>\n",
       "      <td>1E-07 M</td>\n",
       "      <td>DANA_004692470-CEREP-100003703</td>\n",
       "      <td>2012-06-01</td>\n",
       "      <td>INHIB%</td>\n",
       "      <td>%</td>\n",
       "      <td>-4_x000D_</td>\n",
       "    </tr>\n",
       "  </tbody>\n",
       "</table>\n",
       "<p>421883 rows × 15 columns</p>\n",
       "</div>"
      ],
      "text/plain": [
       "       Type_de_protocole Code_protocole_Numero_Version  \\\n",
       "0        Profil sécurité                   BE72EXT - 1   \n",
       "1        Profil sécurité                   BE72EXT - 1   \n",
       "2        Profil sécurité                   BE72EXT - 1   \n",
       "3        Profil sécurité                   BE72EXT - 1   \n",
       "4        Profil sécurité                   BE72EXT - 1   \n",
       "...                  ...                           ...   \n",
       "421878   Profil sécurité                   EOR5EXT - 1   \n",
       "421879   Profil sécurité                   EOR5EXT - 1   \n",
       "421880   Profil sécurité                   EOR5EXT - 1   \n",
       "421881   Profil sécurité                   EOR5EXT - 1   \n",
       "421882   Profil sécurité                   EOR5EXT - 1   \n",
       "\n",
       "                       Titre_Abrege  Reference_Societe Systeme_Etudie  \\\n",
       "0          AMPA(r)/[3H] AMPA/Cortex               64.0           AMPA   \n",
       "1          AMPA(r)/[3H] AMPA/Cortex               64.0           AMPA   \n",
       "2          AMPA(r)/[3H] AMPA/Cortex               64.0           AMPA   \n",
       "3          AMPA(r)/[3H] AMPA/Cortex               64.0           AMPA   \n",
       "4          AMPA(r)/[3H] AMPA/Cortex               64.0           AMPA   \n",
       "...                             ...                ...            ...   \n",
       "421878  MAO-A(h)/recombinant enzyme              191.0          MAO-A   \n",
       "421879  MAO-A(h)/recombinant enzyme              191.0          MAO-A   \n",
       "421880  MAO-A(h)/recombinant enzyme              191.0          MAO-A   \n",
       "421881  MAO-A(h)/recombinant enzyme              191.0          MAO-A   \n",
       "421882  MAO-A(h)/recombinant enzyme              191.0          MAO-A   \n",
       "\n",
       "               Domaine_therapeutique            Produit_teste  \\\n",
       "0                      Neurosciences                S 48326-1   \n",
       "1                      Neurosciences                S 48326-1   \n",
       "2                      Neurosciences                S 48470-1   \n",
       "3                      Neurosciences                S 48470-1   \n",
       "4       Cardiovascular / Respiratory                S 32888-1   \n",
       "...                              ...                      ...   \n",
       "421878                           NaN                    SGN45   \n",
       "421879                           NaN              Varenicline   \n",
       "421880                           NaN              Varenicline   \n",
       "421881                           NaN  VUF 5681, dibromhydrate   \n",
       "421882                           NaN  VUF 5681, dibromhydrate   \n",
       "\n",
       "                Triplet_Teste Serie_chimique Dose_testee_Molar  \\\n",
       "0           D01PHA064C_CHD_ND          L1363           1E-05 M   \n",
       "1           D01PHA064C_CHD_ND          L1363           1E-07 M   \n",
       "2           D01PHA083A_CHD_ND          L1363           1E-05 M   \n",
       "3           D01PHA083A_CHD_ND          L1363           1E-07 M   \n",
       "4           B03BAZ055A_CHB_ND          P1552           1E-05 M   \n",
       "...                       ...            ...               ...   \n",
       "421878      A09JGP188A_CHA_ND          A3548           1E-07 M   \n",
       "421879  ND_SYNTHEVAL_SYN 1208            NaN           1E-05 M   \n",
       "421880  ND_SYNTHEVAL_SYN 1208            NaN           1E-07 M   \n",
       "421881   1A/73148_TOCRIS_2493            NaN           1E-05 M   \n",
       "421882   1A/73148_TOCRIS_2493            NaN           1E-07 M   \n",
       "\n",
       "                            Nom_detude Date_Creation_Etude Parametre  \\\n",
       "0          DANA_001654120-CEREP-922220          2008-09-09    INHIB%   \n",
       "1          DANA_001654120-CEREP-922220          2008-09-09    INHIB%   \n",
       "2          DANA_001668428-CEREP-922231          2008-11-14    INHIB%   \n",
       "3          DANA_001668428-CEREP-922231          2008-11-14    INHIB%   \n",
       "4                 111297/2;080198;2001          1997-12-09    INHIB%   \n",
       "...                                ...                 ...       ...   \n",
       "421878     DANA_000074850-CEREP-921030          2003-05-21    INHIB%   \n",
       "421879     DANA_001456363-CEREP-921090          2008-01-15    INHIB%   \n",
       "421880     DANA_001456363-CEREP-921090          2008-01-15    INHIB%   \n",
       "421881  DANA_004692470-CEREP-100003703          2012-06-01    INHIB%   \n",
       "421882  DANA_004692470-CEREP-100003703          2012-06-01    INHIB%   \n",
       "\n",
       "       Unite_du_Parametre Operateur_Resultat  \n",
       "0                       %          -1_x000D_  \n",
       "1                       %          -4_x000D_  \n",
       "2                       %           9_x000D_  \n",
       "3                       %           2_x000D_  \n",
       "4                       %           0_x000D_  \n",
       "...                   ...                ...  \n",
       "421878                  %           3_x000D_  \n",
       "421879                  %           5_x000D_  \n",
       "421880                  %           0_x000D_  \n",
       "421881                  %           1_x000D_  \n",
       "421882                  %          -4_x000D_  \n",
       "\n",
       "[421883 rows x 15 columns]"
      ]
     },
     "execution_count": 40,
     "metadata": {},
     "output_type": "execute_result"
    }
   ],
   "source": [
    "path=\"\"\n",
    "doc=path+'20240412_CEREP_Profiling_Results.xlsx'\n",
    "keep_cols=[2, 4, 5, 6, 10, 11, 17, 19, 22, 23, 24, 25, 26, 28, 29, 33]\n",
    "table=pd.read_excel(doc,skiprows=3, usecols=keep_cols) #,nrows=1000, dtype=str\n",
    "table = table.replace({'\\r': ''}, regex=True)\n",
    "table=table.drop(table.columns[0], axis=1) # first row is empty\n",
    "\n",
    "# Remove characters using dictionary and replace() method\n",
    "words = table.columns\n",
    "headers = [\"\".join(characters_to_remove.get(char, char) for char in string) for string in words]\n",
    "header = [re.sub(r'\\s+', ' ', string) for string in headers]\n",
    "headers = [word.replace(\" \", \"_\") for word in header]\n",
    "table.columns = headers\n",
    "table.rename(columns={'Dose_testee_Valeur_Unite': 'Dose_testee_Molar'}, inplace=True)\n",
    "headers=list(table.columns )\n",
    "\n",
    "# Clean Product Name\n",
    "words = table['Produit_teste']\n",
    "produits = [\"\".join(accents_to_remove.get(char, char) for char in string) for string in words]\n",
    "table['Produit_teste']=produits\n",
    "table"
   ]
  },
  {
   "cell_type": "markdown",
   "metadata": {
    "id": "C5z34mq9Qy5k"
   },
   "source": [
    "## 1.1. Verify relevant columns exist "
   ]
  },
  {
   "cell_type": "code",
   "execution_count": 41,
   "metadata": {
    "colab": {
     "base_uri": "https://localhost:8080/"
    },
    "executionInfo": {
     "elapsed": 899,
     "status": "ok",
     "timestamp": 1715860449681,
     "user": {
      "displayName": "Brenda Enriquez",
      "userId": "08891656224294489518"
     },
     "user_tz": -120
    },
    "id": "BNCmw5RPCTWa",
    "outputId": "94b0bf47-12c3-4936-e1ca-0d11140d48d0"
   },
   "outputs": [
    {
     "data": {
      "text/plain": [
       "{'Type_de_protocole': [2],\n",
       " 'Code_protocole_Numero_Version': [290],\n",
       " 'Titre_Abrege': [147],\n",
       " 'Reference_Societe': [129],\n",
       " 'Systeme_Etudie': [125],\n",
       " 'Domaine_therapeutique': [7],\n",
       " 'Produit_teste': [9668],\n",
       " 'Triplet_Teste': [9817],\n",
       " 'Serie_chimique': [470],\n",
       " 'Dose_testee_Molar': [16],\n",
       " 'Nom_detude': [70747],\n",
       " 'Date_Creation_Etude': [1039],\n",
       " 'Parametre': [12],\n",
       " 'Unite_du_Parametre': [3],\n",
       " 'Operateur_Resultat': [6720]}"
      ]
     },
     "execution_count": 41,
     "metadata": {},
     "output_type": "execute_result"
    }
   ],
   "source": [
    "clusters=['Module_Pharmacologique','Type_de_protocole','Domaine_therapeutique','Serie_chimique']\n",
    "clean=['Code_protocole_Numero_Version','Operateur_Resultat']\n",
    "label=['Triplet_Teste']\n",
    "NOT_DELETE=['Systeme_Etudie','Produit_teste','Dose_testee_Molar','Nom_detude','Titre_Abrege','Parametre','Unite_du_Parametre','Operateur_Resultat','Date_Creation_Etude']\n",
    "\n",
    "# for i in items_to_delete:\n",
    "#     if i in headers:\n",
    "#         headers.remove(i)\n",
    "\n",
    "\n",
    "# NO NEED TO KEEP IN PROD ----------------------------------------\n",
    "\n",
    "# Verify NOT DELETE\n",
    "for i in NOT_DELETE:\n",
    "    if i not in headers:\n",
    "        print(\"ERROR, MISSING DATA\", i)\n",
    "        break\n",
    "\n",
    "list_unique={}\n",
    "for i in headers:\n",
    "  temp_a=len(table[i].unique())\n",
    "  if temp_a>0: #1:\n",
    "    list_unique[i]=[len(table[i].unique())]\n",
    "list_unique\n",
    "# ------------------------------------------------------------------"
   ]
  },
  {
   "cell_type": "markdown",
   "metadata": {},
   "source": [
    "## 1.2. Change french to english"
   ]
  },
  {
   "cell_type": "code",
   "execution_count": 42,
   "metadata": {
    "executionInfo": {
     "elapsed": 9,
     "status": "ok",
     "timestamp": 1715860449682,
     "user": {
      "displayName": "Brenda Enriquez",
      "userId": "08891656224294489518"
     },
     "user_tz": -120
    },
    "id": "E7zI4SADC6qT"
   },
   "outputs": [],
   "source": [
    "def clean_str(tb):\n",
    "    tb.loc[:,'Type_de_protocole'].replace('Profil sécurité','Security Profile',inplace=True)\n",
    "    tb.loc[:,'Type_de_protocole'].replace('Profil sécurité optimisé','Optimized Security Profile',inplace=True)\n",
    "    tb.loc[:,'Parametre']= tb['Parametre'].str.replace('.', '')\n",
    "\n",
    "    return tb"
   ]
  },
  {
   "cell_type": "markdown",
   "metadata": {},
   "source": [
    "# 2. Standardize Units of measurement"
   ]
  },
  {
   "cell_type": "markdown",
   "metadata": {},
   "source": [
    "## 2.1. Clean and format numbers"
   ]
  },
  {
   "cell_type": "code",
   "execution_count": null,
   "metadata": {},
   "outputs": [],
   "source": []
  },
  {
   "cell_type": "code",
   "execution_count": 43,
   "metadata": {
    "executionInfo": {
     "elapsed": 7,
     "status": "ok",
     "timestamp": 1715860449682,
     "user": {
      "displayName": "Brenda Enriquez",
      "userId": "08891656224294489518"
     },
     "user_tz": -120
    },
    "id": "dmVYuQ9GP9i9"
   },
   "outputs": [],
   "source": [
    "def clean_numbers(tb1):\n",
    "    # Verify if there are duplicated\n",
    "    # sorted_df = tb.sort_values(by=['Nom_detude'])\n",
    "    # duplicates = sorted_df[sorted_df.duplicated()]\n",
    "    # duplicates <- there are duplicates so we deleted them\n",
    "    tb1=tb.drop_duplicates()\n",
    "    #show_t=tb1[tb1['Nom_detude']==\"DANA_001665795-CEREP-922229\"]\n",
    "    #print(show_t)\n",
    "\n",
    "    # CLEAN CHOSES ENCORE\n",
    "    tb1.loc[:,'Operateur_Resultat'] = tb1['Operateur_Resultat'].str.replace(r'\\s+', '')\n",
    "    tb1.loc[:,'Operateur_Resultat'] = tb1['Operateur_Resultat'].str.split('_x000D_',n=1).str[0]\n",
    "    tb1.loc[:,'Operateur_Resultat'] = tb1['Operateur_Resultat'].str.replace('<', '')\n",
    "    tb1.loc[:,'Operateur_Resultat'] = tb1['Operateur_Resultat'].str.replace('>', '')\n",
    "    tb1.loc[:,'Operateur_Resultat'] = tb1['Operateur_Resultat'].str.replace('=', '')\n",
    "    tb1.loc[:,'Operateur_Resultat'] = tb1['Operateur_Resultat'].str.replace('~', '')\n",
    "    tb1.loc[:,'Operateur_Resultat'] = tb1['Operateur_Resultat'].str.replace(',', '.')\n",
    "\n",
    "    tb1.loc[:,'Operateur_Resultat'] = tb1['Operateur_Resultat'].str.replace('IN', '').str.replace(' ', '')\n",
    "    tb1.loc[:,'Operateur_Resultat'] = tb1['Operateur_Resultat'].str.replace('ND', '').str.replace(' ', '')\n",
    "\n",
    "    # to delete error -6-6\n",
    "    mask = tb1['Operateur_Resultat'].str.count('-') == 2\n",
    "\n",
    "    # Applying the code selectively using loc\n",
    "    #tb1.loc[mask]=tb1.loc[mask, 'Operateur_Resultat'].str.extract('(.*)-')\n",
    "\n",
    "    #tb1.loc[:,'Dose_testee_Molar']=tb1['Dose_testee_Molar'].apply(lambda x: str(x).replace('M', '').replace('mg/ml', '').replace('µg/ml', '').replace(r' ', ''))\n",
    "    tb1.loc[:,'Dose_testee_Molar']=tb1['Dose_testee_Molar'].apply(lambda x: str(x).replace('0.0025 mg/ml', '2.5 µg/ml').replace('0.000025 mg/ml', '0.025 µg/ml').replace(r' ', ''))\n",
    "    \n",
    "    # CHANGE FUNCTION!! TO PAY ATTENTION TO ml vs microl\n",
    "\n",
    "\n",
    "    return tb1"
   ]
  },
  {
   "cell_type": "code",
   "execution_count": 44,
   "metadata": {
    "executionInfo": {
     "elapsed": 6,
     "status": "ok",
     "timestamp": 1715860449682,
     "user": {
      "displayName": "Brenda Enriquez",
      "userId": "08891656224294489518"
     },
     "user_tz": -120
    },
    "id": "hQ4WcLwkVYqa"
   },
   "outputs": [],
   "source": [
    "def format_numbers(df,col_name,n=0):\n",
    "    df.loc[:,col_name]=df[col_name].apply(lambda x: np.nan if x == '' else x)\n",
    "    if n==7:\n",
    "      df.loc[:,col_name]=df[col_name].apply(lambda x: '{:.7f}'.format(float(x)))\n",
    "    else:\n",
    "      df.loc[:,col_name]=df[col_name].astype(float)\n",
    "    return df"
   ]
  },
  {
   "cell_type": "code",
   "execution_count": 45,
   "metadata": {
    "colab": {
     "base_uri": "https://localhost:8080/",
     "height": 313
    },
    "executionInfo": {
     "elapsed": 3875,
     "status": "ok",
     "timestamp": 1715860453552,
     "user": {
      "displayName": "Brenda Enriquez",
      "userId": "08891656224294489518"
     },
     "user_tz": -120
    },
    "id": "uq9Xn2e3Fvsc",
    "outputId": "94b649d4-eb7d-415a-e1a3-d53ba3880de7"
   },
   "outputs": [
    {
     "data": {
      "text/html": [
       "<div>\n",
       "<style scoped>\n",
       "    .dataframe tbody tr th:only-of-type {\n",
       "        vertical-align: middle;\n",
       "    }\n",
       "\n",
       "    .dataframe tbody tr th {\n",
       "        vertical-align: top;\n",
       "    }\n",
       "\n",
       "    .dataframe thead th {\n",
       "        text-align: right;\n",
       "    }\n",
       "</style>\n",
       "<table border=\"1\" class=\"dataframe\">\n",
       "  <thead>\n",
       "    <tr style=\"text-align: right;\">\n",
       "      <th></th>\n",
       "      <th>Type_de_protocole</th>\n",
       "      <th>Code_protocole_Numero_Version</th>\n",
       "      <th>Titre_Abrege</th>\n",
       "      <th>Reference_Societe</th>\n",
       "      <th>Systeme_Etudie</th>\n",
       "      <th>Domaine_therapeutique</th>\n",
       "      <th>Produit_teste</th>\n",
       "      <th>Triplet_Teste</th>\n",
       "      <th>Serie_chimique</th>\n",
       "      <th>Dose_testee_Molar</th>\n",
       "      <th>Nom_detude</th>\n",
       "      <th>Date_Creation_Etude</th>\n",
       "      <th>Parametre</th>\n",
       "      <th>Unite_du_Parametre</th>\n",
       "      <th>Operateur_Resultat</th>\n",
       "    </tr>\n",
       "  </thead>\n",
       "  <tbody>\n",
       "    <tr>\n",
       "      <th>386493</th>\n",
       "      <td>Security Profile</td>\n",
       "      <td>BD31EXT - 1</td>\n",
       "      <td>D3(h)/[3H] Spiperone/CHO</td>\n",
       "      <td>NaN</td>\n",
       "      <td>D3</td>\n",
       "      <td>NaN</td>\n",
       "      <td>2-Phenylethylamine</td>\n",
       "      <td>ND_X_ND</td>\n",
       "      <td>NaN</td>\n",
       "      <td>1E-05M</td>\n",
       "      <td>090798/2;060898;92229</td>\n",
       "      <td>1998-07-09</td>\n",
       "      <td>INHIB%</td>\n",
       "      <td>%</td>\n",
       "      <td>26.0</td>\n",
       "    </tr>\n",
       "    <tr>\n",
       "      <th>386494</th>\n",
       "      <td>Security Profile</td>\n",
       "      <td>BD31EXT - 1</td>\n",
       "      <td>D3(h)/[3H] Spiperone/CHO</td>\n",
       "      <td>NaN</td>\n",
       "      <td>D3</td>\n",
       "      <td>NaN</td>\n",
       "      <td>2-Phenylethylamine</td>\n",
       "      <td>ND_X_ND</td>\n",
       "      <td>NaN</td>\n",
       "      <td>1E-07M</td>\n",
       "      <td>090798/2;060898;92229</td>\n",
       "      <td>1998-07-09</td>\n",
       "      <td>INHIB%</td>\n",
       "      <td>%</td>\n",
       "      <td>0.0</td>\n",
       "    </tr>\n",
       "    <tr>\n",
       "      <th>421485</th>\n",
       "      <td>Security Profile</td>\n",
       "      <td>EOR5EXT - 1</td>\n",
       "      <td>MAO-A(h)/recombinant enzyme</td>\n",
       "      <td>191.0</td>\n",
       "      <td>MAO-A</td>\n",
       "      <td>NaN</td>\n",
       "      <td>2-Phenylethylamine</td>\n",
       "      <td>ND_X_ND</td>\n",
       "      <td>NaN</td>\n",
       "      <td>1E-05M</td>\n",
       "      <td>151098/2;121198;92247</td>\n",
       "      <td>1998-11-23</td>\n",
       "      <td>INHIB%</td>\n",
       "      <td>%</td>\n",
       "      <td>38.0</td>\n",
       "    </tr>\n",
       "    <tr>\n",
       "      <th>421486</th>\n",
       "      <td>Security Profile</td>\n",
       "      <td>EOR5EXT - 1</td>\n",
       "      <td>MAO-A(h)/recombinant enzyme</td>\n",
       "      <td>191.0</td>\n",
       "      <td>MAO-A</td>\n",
       "      <td>NaN</td>\n",
       "      <td>2-Phenylethylamine</td>\n",
       "      <td>ND_X_ND</td>\n",
       "      <td>NaN</td>\n",
       "      <td>1E-07M</td>\n",
       "      <td>151098/2;121198;92247</td>\n",
       "      <td>1998-11-23</td>\n",
       "      <td>INHIB%</td>\n",
       "      <td>%</td>\n",
       "      <td>0.0</td>\n",
       "    </tr>\n",
       "    <tr>\n",
       "      <th>4326</th>\n",
       "      <td>Security Profile</td>\n",
       "      <td>BA12EXT - 1</td>\n",
       "      <td>A1(h)/[3H] DPCPX/CHO</td>\n",
       "      <td>2.0</td>\n",
       "      <td>A1</td>\n",
       "      <td>NaN</td>\n",
       "      <td>2-iodo-melatonine</td>\n",
       "      <td>ND_TOCRIS_ND</td>\n",
       "      <td>NaN</td>\n",
       "      <td>1E-05M</td>\n",
       "      <td>DANA_000168973-CEREP-922091</td>\n",
       "      <td>2003-11-14</td>\n",
       "      <td>INHIB%</td>\n",
       "      <td>%</td>\n",
       "      <td>-2.0</td>\n",
       "    </tr>\n",
       "  </tbody>\n",
       "</table>\n",
       "</div>"
      ],
      "text/plain": [
       "       Type_de_protocole Code_protocole_Numero_Version  \\\n",
       "386493  Security Profile                   BD31EXT - 1   \n",
       "386494  Security Profile                   BD31EXT - 1   \n",
       "421485  Security Profile                   EOR5EXT - 1   \n",
       "421486  Security Profile                   EOR5EXT - 1   \n",
       "4326    Security Profile                   BA12EXT - 1   \n",
       "\n",
       "                       Titre_Abrege  Reference_Societe Systeme_Etudie  \\\n",
       "386493     D3(h)/[3H] Spiperone/CHO                NaN             D3   \n",
       "386494     D3(h)/[3H] Spiperone/CHO                NaN             D3   \n",
       "421485  MAO-A(h)/recombinant enzyme              191.0          MAO-A   \n",
       "421486  MAO-A(h)/recombinant enzyme              191.0          MAO-A   \n",
       "4326           A1(h)/[3H] DPCPX/CHO                2.0             A1   \n",
       "\n",
       "       Domaine_therapeutique       Produit_teste Triplet_Teste Serie_chimique  \\\n",
       "386493                   NaN  2-Phenylethylamine       ND_X_ND            NaN   \n",
       "386494                   NaN  2-Phenylethylamine       ND_X_ND            NaN   \n",
       "421485                   NaN  2-Phenylethylamine       ND_X_ND            NaN   \n",
       "421486                   NaN  2-Phenylethylamine       ND_X_ND            NaN   \n",
       "4326                     NaN   2-iodo-melatonine  ND_TOCRIS_ND            NaN   \n",
       "\n",
       "       Dose_testee_Molar                   Nom_detude Date_Creation_Etude  \\\n",
       "386493            1E-05M        090798/2;060898;92229          1998-07-09   \n",
       "386494            1E-07M        090798/2;060898;92229          1998-07-09   \n",
       "421485            1E-05M        151098/2;121198;92247          1998-11-23   \n",
       "421486            1E-07M        151098/2;121198;92247          1998-11-23   \n",
       "4326              1E-05M  DANA_000168973-CEREP-922091          2003-11-14   \n",
       "\n",
       "       Parametre Unite_du_Parametre Operateur_Resultat  \n",
       "386493    INHIB%                  %               26.0  \n",
       "386494    INHIB%                  %                0.0  \n",
       "421485    INHIB%                  %               38.0  \n",
       "421486    INHIB%                  %                0.0  \n",
       "4326      INHIB%                  %               -2.0  "
      ]
     },
     "execution_count": 45,
     "metadata": {},
     "output_type": "execute_result"
    }
   ],
   "source": [
    "# Code\n",
    "headers2=list(list_unique.keys())\n",
    "table2=table[headers2].copy()\n",
    "tb=table[headers2].copy()\n",
    "\n",
    "# Clean special characters -> To english\n",
    "tb=clean_str(tb)\n",
    "# Clean numbers ->  Standardize format\n",
    "tb=clean_numbers(tb)\n",
    "\n",
    "#tb=format_numbers(tb,'Dose_testee_Molar',7)\n",
    "tb=format_numbers(tb,'Operateur_Resultat')\n",
    "\n",
    "clean=tb.sort_values(['Produit_teste','Systeme_Etudie','Type_de_protocole','Domaine_therapeutique'])\n",
    "clean.head()"
   ]
  },
  {
   "cell_type": "code",
   "execution_count": null,
   "metadata": {},
   "outputs": [],
   "source": []
  },
  {
   "cell_type": "markdown",
   "metadata": {},
   "source": [
    "# 3. Add info"
   ]
  },
  {
   "cell_type": "markdown",
   "metadata": {},
   "source": [
    "Add the binding site for CA2+"
   ]
  },
  {
   "cell_type": "code",
   "execution_count": 46,
   "metadata": {},
   "outputs": [],
   "source": [
    "# Added after * so we can merge if needed for a more general overview\n",
    "clean.loc[clean['Reference_Societe']==161.0,'Systeme_Etudie']='CANAL CA2+ TYP L * DIHYDROPYRIDINE SITE'\n",
    "clean.loc[clean['Reference_Societe']==162.0,'Systeme_Etudie']='CANAL CA2+ TYP L * DILTIAZEM SITE'\n",
    "clean.loc[clean['Reference_Societe']==163.0,'Systeme_Etudie']='CANAL CA2+ TYP L * VERAPAMIL SITE'\n",
    "clean.loc[clean['Titre_Abrege'].str.contains('DHP'),'Systeme_Etudie']='CANAL CA2+ TYP L * DIHYDROPYRIDINE SITE'\n",
    "clean.loc[clean['Titre_Abrege'].str.contains('Diltiazem'),'Systeme_Etudie']='CANAL CA2+ TYP L * DILTIAZEM SITE'"
   ]
  },
  {
   "cell_type": "code",
   "execution_count": 47,
   "metadata": {},
   "outputs": [],
   "source": [
    "# Add Reference_Societe where missing, according to 'Systeme_Etudie'\n",
    "ref_mapping = clean.dropna(subset=['Reference_Societe']).drop_duplicates(subset=['Systeme_Etudie']).set_index('Systeme_Etudie')['Reference_Societe'].to_dict()\n",
    "clean['Reference_Societe'] = clean['Reference_Societe'].replace('NaN', pd.NA).fillna(clean['Systeme_Etudie'].map(ref_mapping))"
   ]
  },
  {
   "cell_type": "markdown",
   "metadata": {},
   "source": [
    "NOTE: Still some 'Systeme_Etudie' don't have a Reference, so it is better to use 'Systeme_Etudie' for further analysis and grouping"
   ]
  },
  {
   "cell_type": "markdown",
   "metadata": {},
   "source": [
    "# 4. Split DataFrame by parameters"
   ]
  },
  {
   "cell_type": "code",
   "execution_count": 48,
   "metadata": {},
   "outputs": [
    {
     "data": {
      "text/plain": [
       "['INHIB%',\n",
       " 'IC50',\n",
       " 'KI',\n",
       " 'nH',\n",
       " '% Stim',\n",
       " 'DELTA Fit',\n",
       " 'DELTA Inhib Obs',\n",
       " 'pIC50',\n",
       " 'pKi',\n",
       " 'EC50',\n",
       " 'DELTA Effet Obs',\n",
       " 'pEC50']"
      ]
     },
     "execution_count": 48,
     "metadata": {},
     "output_type": "execute_result"
    }
   ],
   "source": [
    "# Split df by parametre\n",
    "parameters=list(clean[\"Parametre\"].unique())\n",
    "\n",
    "# Generate\n",
    "for i in parameters:\n",
    "    df=clean[clean[\"Parametre\"]==i]\n",
    "    # 1.1 Delete empty columns\n",
    "    df.dropna(how='all', axis=1, inplace=True)\n",
    "    \n",
    "    # 1.2 Drop columns with less than the thresh 75% of not NaN // and rows 50%\n",
    "    # [dfx,dfy]=np.shape(df)\n",
    "    # threshx = dfx * .75\n",
    "    # threshy = dfy * .5\n",
    "    # df = df.dropna(axis=1) #.dropna(thresh=threshy, axis=0)\n",
    "    \n",
    "    df = df.dropna(how='all')\n",
    "    name=path+i+\".csv\"\n",
    "    df.to_csv(name, index=False)\n",
    "\n",
    "parameters"
   ]
  },
  {
   "cell_type": "markdown",
   "metadata": {},
   "source": [
    "## 4.1. Verify & Save unique sys"
   ]
  },
  {
   "cell_type": "markdown",
   "metadata": {},
   "source": [
    "Verify if we have only one \"Titre abrege\" for each Systeme Etudie"
   ]
  },
  {
   "cell_type": "code",
   "execution_count": 49,
   "metadata": {
    "colab": {
     "base_uri": "https://localhost:8080/"
    },
    "executionInfo": {
     "elapsed": 9,
     "status": "ok",
     "timestamp": 1715860453552,
     "user": {
      "displayName": "Brenda Enriquez",
      "userId": "08891656224294489518"
     },
     "user_tz": -120
    },
    "id": "4iIyNvQZZ3YR",
    "outputId": "9ebdbcfb-88f5-4fc3-ba6b-3a94b2eeecb8"
   },
   "outputs": [],
   "source": [
    "# Get all systems \n",
    "label='Reference_Societe'\n",
    "unique_sys=sorted(clean[label].unique())\n",
    "file_path = 'unique_sys_id.txt'\n",
    "save_list_to_txt(unique_sys, file_path)\n",
    "\n",
    "label='Systeme_Etudie'\n",
    "unique_sys=sorted(clean[label].unique())\n",
    "file_path = 'unique_sys_txt.txt'\n",
    "save_list_to_txt(unique_sys, file_path)"
   ]
  },
  {
   "cell_type": "code",
   "execution_count": 50,
   "metadata": {},
   "outputs": [
    {
     "name": "stdout",
     "output_type": "stream",
     "text": [
      "15-LO -> ['15-LO(soja)' '15-LO(h)']\n",
      "5-HT1B -> ['5-HT1B(r)(-)/[125I] Cyanopindolol/Cortex'\n",
      " '5-HT1B(h)/[3H] GR 125743/Chem/scintillation counting ']\n",
      "ABL1 -> ['ABL1(h)/HTRF' 'ABL1(h)/ULight-TK/LANCE']\n",
      "AT1 -> ['AT1(h)/[125I] Angiotensine II /CHO'\n",
      " 'AT1(h)/[125I] Angiotensine II /HEK293']\n",
      "CASPASE-1(120-404) (D381E) -> ['CASPASE-1(120-404)(h)' 'CASPASE-1(h)']\n",
      "COX1 -> ['COX1(h)/Fluorescence' 'COX1(h)/Sf9']\n",
      "COX2 -> ['COX2(h)/Fluorescence' 'COX2(h)/Sf9']\n",
      "D2S -> ['D2S(h)/[3H]methyl-spiperone/HEK293' 'D2S(h)/[3H] Spiperone/HEK293']\n",
      "D3 -> ['D3(h)/[3H] Spiperone/CHO' 'D3(h)/[3H] Methylspiperone/CHO']\n",
      "ERalpha -> ['ERalpha(h)/Fluormone ES2/Sf9' 'ERalpha(h)/[3H] Oestradiol/Sf9']\n",
      "FGFR1(308-731) -> ['FGFR1(308-731)(h)' 'FGFR1(308-731)(h)/LANCE']\n",
      "GABA Aa1b2g2 -> ['GABA A(h)/[3H] Muscimol/CHO' 'GABA A(h)/[3H] Flunitrazepam/CHO']\n",
      "KAPPA -> ['KAPPA(r)/[3H] U 69593/CHO'\n",
      " 'KAPPA(h)/[3H] U 69593/RBL/scintillation counting']\n",
      "MAO-B -> ['MAO-B (h)' 'MAO-B(h)/Luciferine']\n",
      "Non renseigné -> ['ACE(h)/Abz-FRK(Dnp)POH' 'Adényl.cycl.(h)']\n",
      "P38 ALPHA KINASE -> ['p38 alpha kinase(h)' 'p38alpha(h)/LANCE']\n",
      "PDE V -> ['PDE V (h)' 'PDE V(h)/Plaquettes']\n",
      "PKC-alpha -> ['PKCalpha(h)/HTRF' 'PKCalpha(h)/LANCE']\n",
      "PLC -> ['PLC (r)' 'PLC (bactérie)']\n",
      "SIGMA SITE 2 -> ['SIGMA site 2(r)/[3H] DTG/Cortex' 'SIGMA site 2(h)/[3H] DTG/LT']\n",
      "Y -> ['Y(r)/[3H] NPY/Cortex' 'Y(NPY)(r)/[125I] Peptide YY/Cortex']\n"
     ]
    }
   ],
   "source": [
    "label='Systeme_Etudie'\n",
    "unique_sys=sorted(clean[label].unique())\n",
    "\n",
    "# For CA2+ we can differenciate according the binding site\n",
    "cl=clean.copy()\n",
    "\n",
    "for sys in unique_sys:\n",
    "    a=cl.loc[cl['Systeme_Etudie']==sys,'Titre_Abrege'].unique()\n",
    "    if len(a)>1:\n",
    "        print(sys, '->', a)"
   ]
  },
  {
   "cell_type": "code",
   "execution_count": 51,
   "metadata": {},
   "outputs": [
    {
     "data": {
      "text/plain": [
       "['12-LO',\n",
       " '15-LO',\n",
       " '5-HT1A',\n",
       " '5-HT1B',\n",
       " '5-HT1D',\n",
       " '5-HT2A',\n",
       " '5-HT2B',\n",
       " '5-HT2C',\n",
       " '5-HT3',\n",
       " '5-HT4e',\n",
       " 'A1',\n",
       " 'A2A',\n",
       " 'ABL1',\n",
       " 'ACE',\n",
       " 'ACHE',\n",
       " 'ADENYL CYCLASE',\n",
       " 'AKT1',\n",
       " 'ALPHA 1A',\n",
       " 'ALPHA 1B',\n",
       " 'ALPHA 1D',\n",
       " 'ALPHA 2A',\n",
       " 'ALPHA 2B',\n",
       " 'ALPHA 2C',\n",
       " 'AMPA',\n",
       " 'ANDROGENE',\n",
       " 'AT1',\n",
       " 'B2',\n",
       " 'BETA1',\n",
       " 'BETA2',\n",
       " 'BLT1',\n",
       " 'BZC',\n",
       " 'CANAL CA2+ TYP L * DIHYDROPYRIDINE SITE',\n",
       " 'CANAL CA2+ TYP L * DILTIAZEM SITE',\n",
       " 'CANAL CA2+ TYP L * VERAPAMIL SITE',\n",
       " 'CANAL K+/ATP',\n",
       " 'CANAL K+/CA2+',\n",
       " 'CANAL K+/VOLT',\n",
       " 'CANAL NA+ SITE 2',\n",
       " 'CASPASE-1(120-404) (D381E)',\n",
       " 'CASPASE-3',\n",
       " 'CASPASE-8',\n",
       " 'CB1',\n",
       " 'CB2',\n",
       " 'CCK-1',\n",
       " 'CDK1/CyclineB',\n",
       " 'CGRP',\n",
       " 'CHT1',\n",
       " 'COX1',\n",
       " 'COX2',\n",
       " 'CaM-KII ALPHA',\n",
       " 'CaMK II alpha',\n",
       " 'D1',\n",
       " 'D2S',\n",
       " 'D3',\n",
       " 'D4',\n",
       " 'D4.4',\n",
       " 'D5',\n",
       " 'DELTA 2',\n",
       " 'ECE',\n",
       " 'EGFR (668-1210)',\n",
       " 'EGFR KINASE',\n",
       " 'ERalpha',\n",
       " 'ET-A',\n",
       " 'ET-B',\n",
       " 'FGFR1(308-731)',\n",
       " 'GABA',\n",
       " 'GABA Aa1b2g2',\n",
       " 'GLUCOCORTICOIDES',\n",
       " 'GUANYL CYCLASE',\n",
       " 'H1',\n",
       " 'H2',\n",
       " 'H3',\n",
       " 'H4',\n",
       " 'I1',\n",
       " 'I2',\n",
       " 'INSR(1005-1310)',\n",
       " 'Insuline-R(1011-1382)TK',\n",
       " 'KAINATE',\n",
       " 'KAPPA',\n",
       " 'LCK',\n",
       " 'LynA',\n",
       " 'M1',\n",
       " 'M2',\n",
       " 'M3',\n",
       " 'M4',\n",
       " 'MAO-A',\n",
       " 'MAO-B',\n",
       " 'MEK1',\n",
       " 'MEK1(S218D)(S222D)',\n",
       " 'MT1',\n",
       " 'MT2',\n",
       " 'MU',\n",
       " 'N',\n",
       " 'N-ALPHA 7',\n",
       " 'N-ALPHA4/BETA2',\n",
       " 'N-BGTX',\n",
       " 'NA+/K+ ATP_ASE',\n",
       " 'NK1',\n",
       " 'NK2',\n",
       " 'NMDA',\n",
       " 'NO SYNTHASE C.',\n",
       " 'NO SYNTHASE I.',\n",
       " 'Non renseigné',\n",
       " 'P38 ALPHA KINASE',\n",
       " 'PDE IB',\n",
       " 'PDE IIA',\n",
       " 'PDE IIIA',\n",
       " 'PDE IVD',\n",
       " 'PDE V',\n",
       " 'PKA',\n",
       " 'PKA, sous-unité catalytique',\n",
       " 'PKC-alpha',\n",
       " 'PLA2',\n",
       " 'PLC',\n",
       " 'PPAR GAMMA',\n",
       " 'PROGESTERONE',\n",
       " 'RAF-1(306-648) (Y340D;Y341D)',\n",
       " 'SANG',\n",
       " 'SIGMA SITE 1',\n",
       " 'SIGMA SITE 2',\n",
       " 'Trk-B(456-822)',\n",
       " 'TrkB(526-838)',\n",
       " 'UP-5HT',\n",
       " 'UP-DOPAMINE',\n",
       " 'UP-NORA',\n",
       " 'V1a',\n",
       " 'Y']"
      ]
     },
     "execution_count": 51,
     "metadata": {},
     "output_type": "execute_result"
    }
   ],
   "source": [
    "unique_sys"
   ]
  },
  {
   "cell_type": "code",
   "execution_count": 52,
   "metadata": {},
   "outputs": [
    {
     "data": {
      "text/plain": [
       "127"
      ]
     },
     "execution_count": 52,
     "metadata": {},
     "output_type": "execute_result"
    }
   ],
   "source": [
    "len(unique_sys)"
   ]
  },
  {
   "cell_type": "markdown",
   "metadata": {
    "id": "83qti2HvG5ZK"
   },
   "source": [
    "# END"
   ]
  }
 ],
 "metadata": {
  "colab": {
   "authorship_tag": "ABX9TyNka/vEqyeVZZJnH+A+pfJp",
   "mount_file_id": "1DvDGIYzCUCn_UYZOI5TYLqQACIxunifA",
   "provenance": []
  },
  "kernelspec": {
   "display_name": "Python 3 (ipykernel)",
   "language": "python",
   "name": "python3"
  },
  "language_info": {
   "codemirror_mode": {
    "name": "ipython",
    "version": 3
   },
   "file_extension": ".py",
   "mimetype": "text/x-python",
   "name": "python",
   "nbconvert_exporter": "python",
   "pygments_lexer": "ipython3",
   "version": "3.10.14"
  }
 },
 "nbformat": 4,
 "nbformat_minor": 4
}
