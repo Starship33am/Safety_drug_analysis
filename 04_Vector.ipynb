{
 "cells": [
  {
   "cell_type": "markdown",
   "metadata": {
    "id": "EBcTsUrrR1rl"
   },
   "source": [
    "# 0. Libraries"
   ]
  },
  {
   "cell_type": "code",
   "execution_count": 1,
   "metadata": {
    "executionInfo": {
     "elapsed": 2,
     "status": "ok",
     "timestamp": 1716303539499,
     "user": {
      "displayName": "Brenda Enriquez",
      "userId": "08891656224294489518"
     },
     "user_tz": -120
    },
    "id": "9M_y66-ehLCS"
   },
   "outputs": [],
   "source": [
    "import re\n",
    "import pandas as pd\n",
    "import numpy as np\n",
    "import random\n",
    "import seaborn as sns\n",
    "import os\n",
    "from scipy.stats import zscore\n",
    "from scipy.stats import norm\n",
    "\n",
    "import time\n",
    "\n",
    "%matplotlib inline\n",
    "import matplotlib.pyplot as plt\n",
    "from mpl_toolkits.mplot3d import Axes3D\n",
    "from mpl_toolkits.axes_grid1 import make_axes_locatable\n",
    "from ipywidgets import interact\n",
    "\n",
    "\n",
    "from itertools import product\n",
    "\n",
    "from sklearn.manifold import TSNE"
   ]
  },
  {
   "cell_type": "code",
   "execution_count": 2,
   "metadata": {},
   "outputs": [],
   "source": [
    "import warnings\n",
    "warnings.filterwarnings(\"ignore\")"
   ]
  },
  {
   "cell_type": "code",
   "execution_count": 3,
   "metadata": {},
   "outputs": [],
   "source": [
    "def save_list_to_txt(lst, file_path):\n",
    "    with open(file_path, 'w') as file:\n",
    "        for item in lst:\n",
    "            file.write(str(item) + '\\n')"
   ]
  },
  {
   "cell_type": "markdown",
   "metadata": {
    "id": "X3xXLzQDcCgG"
   },
   "source": [
    "# 1. Load and verify data"
   ]
  },
  {
   "cell_type": "code",
   "execution_count": 4,
   "metadata": {},
   "outputs": [],
   "source": [
    "def f_load(path,parameter):\n",
    "    # This function allows us to load the data of one parameter\n",
    "    # path: the location of the files\n",
    "    # parameters: filtered, fixed, f_optimized\n",
    "    # Read data\n",
    "    df_ini= pd.read_csv(path+parameter+\".csv\")\n",
    "\n",
    "    # Validate that the results are numbers and there are not special characters\n",
    "    df_ini[\"Operateur_Resultat\"]=df_ini[\"Operateur_Resultat\"].astype(float)  \n",
    "\n",
    "    return df_ini"
   ]
  },
  {
   "cell_type": "markdown",
   "metadata": {},
   "source": [
    "# 5. Generate vector"
   ]
  },
  {
   "cell_type": "code",
   "execution_count": 5,
   "metadata": {},
   "outputs": [],
   "source": [
    "def f_no_dup(df_base,df_produit,duplicated_sys,label):\n",
    "    data=np.array(df_produit['Operateur_Resultat']).reshape(1, -1)\n",
    "    ones=np.sum(data==1)\n",
    "    df_generic = pd.DataFrame(data=data, columns=df_produit[label])\n",
    "    large=df_generic.shape[1]\n",
    "    df_base=pd.concat([df_base, df_generic])\n",
    "    # print('cols',len(list(df_base.columns)),list(df_base.columns)) # Verify all columns are in the same order\n",
    "    return df_base.to_numpy()[0],large,ones"
   ]
  },
  {
   "cell_type": "code",
   "execution_count": 6,
   "metadata": {
    "colab": {
     "base_uri": "https://localhost:8080/"
    },
    "executionInfo": {
     "elapsed": 322,
     "status": "ok",
     "timestamp": 1716299920236,
     "user": {
      "displayName": "Brenda Enriquez",
      "userId": "08891656224294489518"
     },
     "user_tz": -120
    },
    "id": "0J2xaEVqByvS",
    "outputId": "68828e62-aef1-462e-eb63-d243024d7bdd",
    "scrolled": true
   },
   "outputs": [],
   "source": [
    "def f_vector(df_group,unique_sys,label):\n",
    "    # Create a new dataframe that will contain one column for each existent system for all products\n",
    "    # We will not get 'duplicated' rows as we decided to keep only the last result gotten\n",
    "    \n",
    "    #### CODE\n",
    "    # Initialize -> create columns product to identify product,\n",
    "    # index to differentiate duplicated products\n",
    "    # dup to know if we have duplicated for this product\n",
    "    \n",
    "    output_cols=['Product','Dup','Vector','Nb_Test','Toxic']\n",
    "    df_base = pd.DataFrame(columns=unique_sys)\n",
    "    df_vec = pd.DataFrame(columns=output_cols)\n",
    "    dic_dup_2={}\n",
    "    \n",
    "    for i in df_group['Produit'].unique():\n",
    "        df_produit=df_group[df_group['Produit']==i]\n",
    "        duplicated_sys = df_produit[label][df_produit[label].duplicated(keep=False)].unique()\n",
    "        \n",
    "        if len(duplicated_sys)==0: # Case 1, we don't have duplicated values in 'Systeme_Etudie'\n",
    "            index=1\n",
    "            dup=0\n",
    "            vec,large,ones=f_no_dup(df_base,df_produit,duplicated_sys,label) \n",
    "            mat=[i,dup,vec,large,ones]\n",
    "            temp=pd.DataFrame(index=output_cols,data=mat).T\n",
    "            df_vec=pd.concat([df_vec,temp])\n",
    "            \n",
    "        else: # Case 2, we have duplicated values in 'Systeme_Etudie' -> Not expected\n",
    "            dup=1\n",
    "            vec=[]\n",
    "            large=0\n",
    "            ones=0\n",
    "            mat=[i,dup,vec,large,ones]\n",
    "            temp=pd.DataFrame(index=output_cols,data=mat).T\n",
    "            df_vec=pd.concat([df_vec,temp])\n",
    "            \n",
    "            # To verify that we don't have duplicates\n",
    "            temp=str(i)\n",
    "            dic_dup_2[temp]=dic_dup\n",
    "            \n",
    "    df_vec.columns = output_cols\n",
    "    df_vec = df_vec.reset_index(drop=True)\n",
    "    return df_vec,dic_dup_2"
   ]
  },
  {
   "cell_type": "code",
   "execution_count": 7,
   "metadata": {},
   "outputs": [],
   "source": [
    "def fv_large(vector):\n",
    "    fig, ax = plt.subplots(1, 1, figsize=(16, 5))\n",
    "    # Histogram of outliers_p\n",
    "    ax.hist(vector, bins=200, edgecolor='black')\n",
    "    ax.set_title('Histogram of Number of Studied Systems by Product')\n",
    "    ax.set_xlabel('Number of Studied Systems Tested')\n",
    "    ax.set_ylabel('Frequency')\n",
    "    plt.tight_layout()\n",
    "    plt.show()"
   ]
  },
  {
   "cell_type": "code",
   "execution_count": 8,
   "metadata": {},
   "outputs": [],
   "source": [
    "def fv_ones(vector):\n",
    "    fig, ax = plt.subplots(1, 1, figsize=(16, 5))\n",
    "   # Histogram of outliers_p\n",
    "    ax.hist(vector, bins=200, edgecolor='black')\n",
    "    ax.set_title('Histogram of Toxic Tests per Product')\n",
    "    ax.set_xlabel('Number of Toxic Tests')\n",
    "    ax.set_ylabel('Frequency')\n",
    "    plt.tight_layout()\n",
    "    plt.show()"
   ]
  },
  {
   "cell_type": "code",
   "execution_count": 9,
   "metadata": {},
   "outputs": [],
   "source": [
    "# Get all systems \n",
    "def f_get_unique_ids(label,clean):\n",
    "    label='Systeme_Etudie'\n",
    "    unique_sys=sorted(clean[label].unique())\n",
    "    file_name = 'unique'+label+'.txt'\n",
    "    save_list_to_txt(unique_sys, file_name)\n",
    "    return file_name"
   ]
  },
  {
   "cell_type": "code",
   "execution_count": 10,
   "metadata": {},
   "outputs": [
    {
     "name": "stdout",
     "output_type": "stream",
     "text": [
      "Start\n"
     ]
    },
    {
     "data": {
      "text/plain": [
       "array([0., 0., 0., 0., 0., 0., 0., 0., 0., 0., 0., 0., 0., 0., 0., 0., 0.,\n",
       "       0., 0., 0., 0., 0., 0., 0., 0., 0., 0., 0., 0., 0., 0., 0., 0., 0.,\n",
       "       0., 1., 1., 1., 1., 0., 0., 0., 0., 0., 0., 0., 0., 0., 0., 0., 0.,\n",
       "       0., 0., 0.])"
      ]
     },
     "execution_count": 10,
     "metadata": {},
     "output_type": "execute_result"
    }
   ],
   "source": [
    "# Main\n",
    "\n",
    "# 1. Load data\n",
    "path=\"\"\n",
    "parameter='fixed_optimized'\n",
    "label= 'Systeme_Etudie' #'Systeme_Etudie' is better as we don't have 'Reference_Societe' for all the tests, BE CONSISTENT WITH CODE 02\n",
    "df_ready=f_load(path,parameter)\n",
    "\n",
    "file_name=f_get_unique_ids(label,df_ready)\n",
    "unique_sys=open(file_name, \"r\").read().splitlines()\n",
    "\n",
    "# 2. Create a new dataframe that will contain one column with a vector of all the systems tested on each products\n",
    "print('Start')\n",
    "df_vec,dic_dup_2=f_vector(df_ready,unique_sys,label)\n",
    "\n",
    "# 6. Save & Read\n",
    "name ='vec_'+parameter+'.pkl'\n",
    "df_vec.to_pickle(name)\n",
    "\n",
    "\n",
    "# Verify that we keep a vector\n",
    "df_vec2=pd.read_pickle(name)\n",
    "df_vec2['Vector'][0]\n"
   ]
  },
  {
   "cell_type": "code",
   "execution_count": 12,
   "metadata": {},
   "outputs": [
    {
     "data": {
      "text/plain": [
       "'uniqueSysteme_Etudie.txt'"
      ]
     },
     "execution_count": 12,
     "metadata": {},
     "output_type": "execute_result"
    }
   ],
   "source": [
    "file_name"
   ]
  },
  {
   "cell_type": "code",
   "execution_count": 11,
   "metadata": {},
   "outputs": [
    {
     "data": {
      "text/html": [
       "<div>\n",
       "<style scoped>\n",
       "    .dataframe tbody tr th:only-of-type {\n",
       "        vertical-align: middle;\n",
       "    }\n",
       "\n",
       "    .dataframe tbody tr th {\n",
       "        vertical-align: top;\n",
       "    }\n",
       "\n",
       "    .dataframe thead th {\n",
       "        text-align: right;\n",
       "    }\n",
       "</style>\n",
       "<table border=\"1\" class=\"dataframe\">\n",
       "  <thead>\n",
       "    <tr style=\"text-align: right;\">\n",
       "      <th></th>\n",
       "      <th>Product</th>\n",
       "      <th>Dup</th>\n",
       "      <th>Vector</th>\n",
       "      <th>Nb_Test</th>\n",
       "      <th>Toxic</th>\n",
       "    </tr>\n",
       "  </thead>\n",
       "  <tbody>\n",
       "    <tr>\n",
       "      <th>0</th>\n",
       "      <td>AGI-0074986_1E-05M</td>\n",
       "      <td>0</td>\n",
       "      <td>[0.0, 0.0, 0.0, 0.0, 0.0, 0.0, 0.0, 0.0, 0.0, ...</td>\n",
       "      <td>54</td>\n",
       "      <td>4</td>\n",
       "    </tr>\n",
       "    <tr>\n",
       "      <th>1</th>\n",
       "      <td>AGI-0074986_1E-07M</td>\n",
       "      <td>0</td>\n",
       "      <td>[0.0, 0.0, 0.0, 0.0, 0.0, 0.0, 0.0, 0.0, 0.0, ...</td>\n",
       "      <td>54</td>\n",
       "      <td>0</td>\n",
       "    </tr>\n",
       "    <tr>\n",
       "      <th>2</th>\n",
       "      <td>AGI-0075104_1E-05M</td>\n",
       "      <td>0</td>\n",
       "      <td>[0.0, 0.0, 0.0, 0.0, 0.0, 0.0, 0.0, 0.0, 0.0, ...</td>\n",
       "      <td>54</td>\n",
       "      <td>0</td>\n",
       "    </tr>\n",
       "    <tr>\n",
       "      <th>3</th>\n",
       "      <td>AGI-0075104_1E-07M</td>\n",
       "      <td>0</td>\n",
       "      <td>[0.0, 0.0, 0.0, 0.0, 0.0, 0.0, 0.0, 0.0, 0.0, ...</td>\n",
       "      <td>54</td>\n",
       "      <td>0</td>\n",
       "    </tr>\n",
       "    <tr>\n",
       "      <th>4</th>\n",
       "      <td>AGI-0075107_1E-05M</td>\n",
       "      <td>0</td>\n",
       "      <td>[0.0, 0.0, 0.0, 0.0, 0.0, 0.0, 0.0, 1.0, 0.0, ...</td>\n",
       "      <td>54</td>\n",
       "      <td>1</td>\n",
       "    </tr>\n",
       "    <tr>\n",
       "      <th>...</th>\n",
       "      <td>...</td>\n",
       "      <td>...</td>\n",
       "      <td>...</td>\n",
       "      <td>...</td>\n",
       "      <td>...</td>\n",
       "    </tr>\n",
       "    <tr>\n",
       "      <th>299</th>\n",
       "      <td>WEHI-1655027_1E-07M</td>\n",
       "      <td>0</td>\n",
       "      <td>[0.0, 0.0, 0.0, 0.0, 0.0, 0.0, 0.0, 0.0, 0.0, ...</td>\n",
       "      <td>54</td>\n",
       "      <td>0</td>\n",
       "    </tr>\n",
       "    <tr>\n",
       "      <th>300</th>\n",
       "      <td>WEHI-1655863_1E-05M</td>\n",
       "      <td>0</td>\n",
       "      <td>[0.0, 0.0, 0.0, 0.0, 0.0, 0.0, 0.0, 0.0, 0.0, ...</td>\n",
       "      <td>54</td>\n",
       "      <td>0</td>\n",
       "    </tr>\n",
       "    <tr>\n",
       "      <th>301</th>\n",
       "      <td>WEHI-1655863_1E-07M</td>\n",
       "      <td>0</td>\n",
       "      <td>[0.0, 0.0, 0.0, 0.0, 0.0, 0.0, 0.0, 0.0, 0.0, ...</td>\n",
       "      <td>54</td>\n",
       "      <td>0</td>\n",
       "    </tr>\n",
       "    <tr>\n",
       "      <th>302</th>\n",
       "      <td>WEHI-1655870_1E-05M</td>\n",
       "      <td>0</td>\n",
       "      <td>[0.0, 0.0, 0.0, 0.0, 0.0, 0.0, 0.0, 0.0, 0.0, ...</td>\n",
       "      <td>54</td>\n",
       "      <td>0</td>\n",
       "    </tr>\n",
       "    <tr>\n",
       "      <th>303</th>\n",
       "      <td>WEHI-1655870_1E-07M</td>\n",
       "      <td>0</td>\n",
       "      <td>[0.0, 0.0, 0.0, 0.0, 0.0, 0.0, 0.0, 0.0, 0.0, ...</td>\n",
       "      <td>54</td>\n",
       "      <td>0</td>\n",
       "    </tr>\n",
       "  </tbody>\n",
       "</table>\n",
       "<p>304 rows × 5 columns</p>\n",
       "</div>"
      ],
      "text/plain": [
       "                 Product Dup  \\\n",
       "0     AGI-0074986_1E-05M   0   \n",
       "1     AGI-0074986_1E-07M   0   \n",
       "2     AGI-0075104_1E-05M   0   \n",
       "3     AGI-0075104_1E-07M   0   \n",
       "4     AGI-0075107_1E-05M   0   \n",
       "..                   ...  ..   \n",
       "299  WEHI-1655027_1E-07M   0   \n",
       "300  WEHI-1655863_1E-05M   0   \n",
       "301  WEHI-1655863_1E-07M   0   \n",
       "302  WEHI-1655870_1E-05M   0   \n",
       "303  WEHI-1655870_1E-07M   0   \n",
       "\n",
       "                                                Vector Nb_Test Toxic  \n",
       "0    [0.0, 0.0, 0.0, 0.0, 0.0, 0.0, 0.0, 0.0, 0.0, ...      54     4  \n",
       "1    [0.0, 0.0, 0.0, 0.0, 0.0, 0.0, 0.0, 0.0, 0.0, ...      54     0  \n",
       "2    [0.0, 0.0, 0.0, 0.0, 0.0, 0.0, 0.0, 0.0, 0.0, ...      54     0  \n",
       "3    [0.0, 0.0, 0.0, 0.0, 0.0, 0.0, 0.0, 0.0, 0.0, ...      54     0  \n",
       "4    [0.0, 0.0, 0.0, 0.0, 0.0, 0.0, 0.0, 1.0, 0.0, ...      54     1  \n",
       "..                                                 ...     ...   ...  \n",
       "299  [0.0, 0.0, 0.0, 0.0, 0.0, 0.0, 0.0, 0.0, 0.0, ...      54     0  \n",
       "300  [0.0, 0.0, 0.0, 0.0, 0.0, 0.0, 0.0, 0.0, 0.0, ...      54     0  \n",
       "301  [0.0, 0.0, 0.0, 0.0, 0.0, 0.0, 0.0, 0.0, 0.0, ...      54     0  \n",
       "302  [0.0, 0.0, 0.0, 0.0, 0.0, 0.0, 0.0, 0.0, 0.0, ...      54     0  \n",
       "303  [0.0, 0.0, 0.0, 0.0, 0.0, 0.0, 0.0, 0.0, 0.0, ...      54     0  \n",
       "\n",
       "[304 rows x 5 columns]"
      ]
     },
     "execution_count": 11,
     "metadata": {},
     "output_type": "execute_result"
    }
   ],
   "source": [
    "df_vec"
   ]
  },
  {
   "cell_type": "markdown",
   "metadata": {
    "id": "9P3y_hspZWrG"
   },
   "source": [
    "### About this part"
   ]
  },
  {
   "cell_type": "markdown",
   "metadata": {
    "id": "2qACDaFdZZju"
   },
   "source": [
    "1. We generated a vector for each Product and dose using all the tests available, all vectors were genetared using the same base so each row corresponds always to the same \"Systeme_Etudie\"\n"
   ]
  },
  {
   "cell_type": "code",
   "execution_count": null,
   "metadata": {},
   "outputs": [],
   "source": []
  }
 ],
 "metadata": {
  "colab": {
   "authorship_tag": "ABX9TyOa2iz9rzegskTKGpjz97qi",
   "gpuType": "T4",
   "provenance": []
  },
  "kernelspec": {
   "display_name": "Python 3 (ipykernel)",
   "language": "python",
   "name": "python3"
  },
  "language_info": {
   "codemirror_mode": {
    "name": "ipython",
    "version": 3
   },
   "file_extension": ".py",
   "mimetype": "text/x-python",
   "name": "python",
   "nbconvert_exporter": "python",
   "pygments_lexer": "ipython3",
   "version": "3.10.14"
  }
 },
 "nbformat": 4,
 "nbformat_minor": 4
}
